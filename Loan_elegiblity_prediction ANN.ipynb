{
 "cells": [
  {
   "cell_type": "markdown",
   "id": "6489160d",
   "metadata": {},
   "source": [
    "# Loan elegibility Prediction using (ANN's)"
   ]
  },
  {
   "cell_type": "markdown",
   "id": "0ff871fe",
   "metadata": {},
   "source": [
    "# Read Data"
   ]
  },
  {
   "cell_type": "code",
   "execution_count": 2,
   "id": "9456b6f4",
   "metadata": {},
   "outputs": [],
   "source": [
    "from warnings import filterwarnings\n",
    "filterwarnings(\"ignore\")\n",
    "import pandas as pd\n",
    "A = pd.read_csv(\"/Users/ABC/Downloads/loan/training_set.csv\")"
   ]
  },
  {
   "cell_type": "markdown",
   "id": "a52634bf",
   "metadata": {},
   "source": [
    "# preview"
   ]
  },
  {
   "cell_type": "code",
   "execution_count": 3,
   "id": "10146946",
   "metadata": {},
   "outputs": [
    {
     "data": {
      "text/html": [
       "<div>\n",
       "<style scoped>\n",
       "    .dataframe tbody tr th:only-of-type {\n",
       "        vertical-align: middle;\n",
       "    }\n",
       "\n",
       "    .dataframe tbody tr th {\n",
       "        vertical-align: top;\n",
       "    }\n",
       "\n",
       "    .dataframe thead th {\n",
       "        text-align: right;\n",
       "    }\n",
       "</style>\n",
       "<table border=\"1\" class=\"dataframe\">\n",
       "  <thead>\n",
       "    <tr style=\"text-align: right;\">\n",
       "      <th></th>\n",
       "      <th>Loan_ID</th>\n",
       "      <th>Gender</th>\n",
       "      <th>Married</th>\n",
       "      <th>Dependents</th>\n",
       "      <th>Education</th>\n",
       "      <th>Self_Employed</th>\n",
       "      <th>ApplicantIncome</th>\n",
       "      <th>CoapplicantIncome</th>\n",
       "      <th>LoanAmount</th>\n",
       "      <th>Loan_Amount_Term</th>\n",
       "      <th>Credit_History</th>\n",
       "      <th>Property_Area</th>\n",
       "      <th>Loan_Status</th>\n",
       "    </tr>\n",
       "  </thead>\n",
       "  <tbody>\n",
       "    <tr>\n",
       "      <th>0</th>\n",
       "      <td>LP001002</td>\n",
       "      <td>Male</td>\n",
       "      <td>No</td>\n",
       "      <td>0</td>\n",
       "      <td>Graduate</td>\n",
       "      <td>No</td>\n",
       "      <td>5849.0</td>\n",
       "      <td>0.0</td>\n",
       "      <td>NaN</td>\n",
       "      <td>360.0</td>\n",
       "      <td>1.0</td>\n",
       "      <td>Urban</td>\n",
       "      <td>Y</td>\n",
       "    </tr>\n",
       "    <tr>\n",
       "      <th>1</th>\n",
       "      <td>LP001003</td>\n",
       "      <td>Male</td>\n",
       "      <td>Yes</td>\n",
       "      <td>1</td>\n",
       "      <td>Graduate</td>\n",
       "      <td>No</td>\n",
       "      <td>NaN</td>\n",
       "      <td>1508.0</td>\n",
       "      <td>128.0</td>\n",
       "      <td>360.0</td>\n",
       "      <td>1.0</td>\n",
       "      <td>Rural</td>\n",
       "      <td>N</td>\n",
       "    </tr>\n",
       "    <tr>\n",
       "      <th>2</th>\n",
       "      <td>LP001005</td>\n",
       "      <td>Male</td>\n",
       "      <td>Yes</td>\n",
       "      <td>0</td>\n",
       "      <td>Graduate</td>\n",
       "      <td>Yes</td>\n",
       "      <td>3000.0</td>\n",
       "      <td>0.0</td>\n",
       "      <td>66.0</td>\n",
       "      <td>360.0</td>\n",
       "      <td>1.0</td>\n",
       "      <td>Urban</td>\n",
       "      <td>Y</td>\n",
       "    </tr>\n",
       "    <tr>\n",
       "      <th>3</th>\n",
       "      <td>LP001006</td>\n",
       "      <td>Male</td>\n",
       "      <td>Yes</td>\n",
       "      <td>0</td>\n",
       "      <td>Not Graduate</td>\n",
       "      <td>No</td>\n",
       "      <td>2583.0</td>\n",
       "      <td>2358.0</td>\n",
       "      <td>120.0</td>\n",
       "      <td>360.0</td>\n",
       "      <td>1.0</td>\n",
       "      <td>Urban</td>\n",
       "      <td>Y</td>\n",
       "    </tr>\n",
       "    <tr>\n",
       "      <th>4</th>\n",
       "      <td>LP001008</td>\n",
       "      <td>Male</td>\n",
       "      <td>No</td>\n",
       "      <td>0</td>\n",
       "      <td>Graduate</td>\n",
       "      <td>No</td>\n",
       "      <td>6000.0</td>\n",
       "      <td>0.0</td>\n",
       "      <td>141.0</td>\n",
       "      <td>360.0</td>\n",
       "      <td>1.0</td>\n",
       "      <td>Urban</td>\n",
       "      <td>Y</td>\n",
       "    </tr>\n",
       "  </tbody>\n",
       "</table>\n",
       "</div>"
      ],
      "text/plain": [
       "    Loan_ID Gender Married Dependents     Education Self_Employed  \\\n",
       "0  LP001002   Male      No          0      Graduate            No   \n",
       "1  LP001003   Male     Yes          1      Graduate            No   \n",
       "2  LP001005   Male     Yes          0      Graduate           Yes   \n",
       "3  LP001006   Male     Yes          0  Not Graduate            No   \n",
       "4  LP001008   Male      No          0      Graduate            No   \n",
       "\n",
       "   ApplicantIncome  CoapplicantIncome  LoanAmount  Loan_Amount_Term  \\\n",
       "0           5849.0                0.0         NaN             360.0   \n",
       "1              NaN             1508.0       128.0             360.0   \n",
       "2           3000.0                0.0        66.0             360.0   \n",
       "3           2583.0             2358.0       120.0             360.0   \n",
       "4           6000.0                0.0       141.0             360.0   \n",
       "\n",
       "   Credit_History Property_Area Loan_Status  \n",
       "0             1.0         Urban           Y  \n",
       "1             1.0         Rural           N  \n",
       "2             1.0         Urban           Y  \n",
       "3             1.0         Urban           Y  \n",
       "4             1.0         Urban           Y  "
      ]
     },
     "execution_count": 3,
     "metadata": {},
     "output_type": "execute_result"
    }
   ],
   "source": [
    "A.head(5)"
   ]
  },
  {
   "cell_type": "markdown",
   "id": "c8cabf3c",
   "metadata": {},
   "source": [
    "# Missing Data Treatment"
   ]
  },
  {
   "cell_type": "code",
   "execution_count": 4,
   "id": "951e0fae",
   "metadata": {},
   "outputs": [],
   "source": [
    "from PM8wd import replacer\n",
    "replacer(A)"
   ]
  },
  {
   "cell_type": "markdown",
   "id": "9c77c7c8",
   "metadata": {},
   "source": [
    "# Drop unwanted column"
   ]
  },
  {
   "cell_type": "code",
   "execution_count": 5,
   "id": "f2441647",
   "metadata": {},
   "outputs": [],
   "source": [
    "A = A.drop(labels=[\"Loan_ID\"],axis=1)"
   ]
  },
  {
   "cell_type": "markdown",
   "id": "14c48993",
   "metadata": {},
   "source": [
    "# Define X and Y"
   ]
  },
  {
   "cell_type": "code",
   "execution_count": 6,
   "id": "288dbe6a",
   "metadata": {},
   "outputs": [],
   "source": [
    "Y = A[[\"Loan_Status\"]]\n",
    "X = A.drop(labels=[\"Loan_Status\"],axis=1)"
   ]
  },
  {
   "cell_type": "markdown",
   "id": "bb73a947",
   "metadata": {},
   "source": [
    "# Convert Y into a label encoded format"
   ]
  },
  {
   "cell_type": "code",
   "execution_count": 7,
   "id": "a1bd5a7d",
   "metadata": {},
   "outputs": [],
   "source": [
    "from sklearn.preprocessing import LabelEncoder\n",
    "le = LabelEncoder()\n",
    "Ynew = pd.DataFrame(le.fit_transform(Y),columns=[\"Loan_Status\"])"
   ]
  },
  {
   "cell_type": "markdown",
   "id": "b8b58d65",
   "metadata": {},
   "source": [
    "# Preprocessing"
   ]
  },
  {
   "cell_type": "code",
   "execution_count": 12,
   "id": "e40ec818",
   "metadata": {},
   "outputs": [],
   "source": [
    "from PM8wd import preprocessing\n",
    "Xnew = preprocessing(X)"
   ]
  },
  {
   "cell_type": "markdown",
   "id": "a73cf584",
   "metadata": {},
   "source": [
    "# Divide data in training and testing"
   ]
  },
  {
   "cell_type": "code",
   "execution_count": 13,
   "id": "98939379",
   "metadata": {},
   "outputs": [],
   "source": [
    "from sklearn.model_selection import train_test_split\n",
    "xtrain,xtest,ytrain,ytest=train_test_split(Xnew,Ynew,test_size=0.2,random_state=21)"
   ]
  },
  {
   "cell_type": "code",
   "execution_count": 14,
   "id": "0061a780",
   "metadata": {},
   "outputs": [
    {
     "data": {
      "text/plain": [
       "(614, 20)"
      ]
     },
     "execution_count": 14,
     "metadata": {},
     "output_type": "execute_result"
    }
   ],
   "source": [
    "Xnew.shape"
   ]
  },
  {
   "cell_type": "markdown",
   "id": "f133bb9a",
   "metadata": {},
   "source": [
    "# Create a Neural Network"
   ]
  },
  {
   "cell_type": "code",
   "execution_count": 16,
   "id": "6841a893",
   "metadata": {},
   "outputs": [],
   "source": [
    "import tensorflow as tf\n",
    "from tensorflow.keras.models import Sequential\n",
    "from tensorflow.keras.layers import Dense,Dropout\n",
    "from tensorflow.keras.callbacks import EarlyStopping\n",
    "from tensorflow.keras.optimizers import SGD"
   ]
  },
  {
   "cell_type": "code",
   "execution_count": 17,
   "id": "5883a9d0",
   "metadata": {},
   "outputs": [],
   "source": [
    "es = EarlyStopping(patience=50)\n",
    "nn = Sequential()\n",
    "nn.add(Dense(200,input_dim=(20)))\n",
    "nn.add(Dense(200))\n",
    "nn.add(Dropout(0.2))\n",
    "nn.add(Dense(200))\n",
    "nn.add(Dropout(0.2))\n",
    "nn.add(Dense(200))\n",
    "nn.add(Dropout(0.2))\n",
    "nn.add(Dense(1,activation=\"sigmoid\"))"
   ]
  },
  {
   "cell_type": "code",
   "execution_count": 18,
   "id": "4c6f89de",
   "metadata": {},
   "outputs": [
    {
     "name": "stdout",
     "output_type": "stream",
     "text": [
      "Epoch 1/100\n",
      "98/98 [==============================] - 1s 12ms/step - loss: 0.6217 - accuracy: 0.7602 - val_loss: 0.5220 - val_accuracy: 0.8283\n",
      "Epoch 2/100\n",
      "98/98 [==============================] - 0s 4ms/step - loss: 0.5802 - accuracy: 0.7781 - val_loss: 0.5099 - val_accuracy: 0.7980\n",
      "Epoch 3/100\n",
      "98/98 [==============================] - 0s 4ms/step - loss: 0.5713 - accuracy: 0.7449 - val_loss: 0.5142 - val_accuracy: 0.8182\n",
      "Epoch 4/100\n",
      "98/98 [==============================] - 0s 4ms/step - loss: 0.5591 - accuracy: 0.7679 - val_loss: 0.7123 - val_accuracy: 0.8081\n",
      "Epoch 5/100\n",
      "98/98 [==============================] - 0s 4ms/step - loss: 0.5342 - accuracy: 0.7806 - val_loss: 0.5160 - val_accuracy: 0.8081\n",
      "Epoch 6/100\n",
      "98/98 [==============================] - 0s 3ms/step - loss: 0.5618 - accuracy: 0.7832 - val_loss: 0.5583 - val_accuracy: 0.7374\n",
      "Epoch 7/100\n",
      "98/98 [==============================] - 0s 3ms/step - loss: 0.5430 - accuracy: 0.7908 - val_loss: 0.6597 - val_accuracy: 0.6869\n",
      "Epoch 8/100\n",
      "98/98 [==============================] - 0s 3ms/step - loss: 0.5456 - accuracy: 0.7934 - val_loss: 0.5676 - val_accuracy: 0.8081\n",
      "Epoch 9/100\n",
      "98/98 [==============================] - 0s 3ms/step - loss: 0.5160 - accuracy: 0.7908 - val_loss: 0.4816 - val_accuracy: 0.8081\n",
      "Epoch 10/100\n",
      "98/98 [==============================] - 0s 3ms/step - loss: 0.5338 - accuracy: 0.7806 - val_loss: 0.5169 - val_accuracy: 0.8182\n",
      "Epoch 11/100\n",
      "98/98 [==============================] - 0s 3ms/step - loss: 0.5325 - accuracy: 0.7934 - val_loss: 0.5099 - val_accuracy: 0.7980\n",
      "Epoch 12/100\n",
      "98/98 [==============================] - 0s 3ms/step - loss: 0.5076 - accuracy: 0.7832 - val_loss: 0.5699 - val_accuracy: 0.7374\n",
      "Epoch 13/100\n",
      "98/98 [==============================] - 0s 3ms/step - loss: 0.5128 - accuracy: 0.7908 - val_loss: 0.5523 - val_accuracy: 0.8182\n",
      "Epoch 14/100\n",
      "98/98 [==============================] - 0s 3ms/step - loss: 0.4996 - accuracy: 0.7832 - val_loss: 0.5248 - val_accuracy: 0.8182\n",
      "Epoch 15/100\n",
      "98/98 [==============================] - 0s 3ms/step - loss: 0.5317 - accuracy: 0.7908 - val_loss: 0.5705 - val_accuracy: 0.7576\n",
      "Epoch 16/100\n",
      "98/98 [==============================] - 0s 3ms/step - loss: 0.5086 - accuracy: 0.7959 - val_loss: 0.4881 - val_accuracy: 0.7980\n",
      "Epoch 17/100\n",
      "98/98 [==============================] - 0s 3ms/step - loss: 0.5086 - accuracy: 0.7934 - val_loss: 0.5144 - val_accuracy: 0.7677\n",
      "Epoch 18/100\n",
      "98/98 [==============================] - 0s 3ms/step - loss: 0.5200 - accuracy: 0.8010 - val_loss: 0.5064 - val_accuracy: 0.8081\n",
      "Epoch 19/100\n",
      "98/98 [==============================] - 0s 3ms/step - loss: 0.5053 - accuracy: 0.7806 - val_loss: 0.5561 - val_accuracy: 0.8081\n",
      "Epoch 20/100\n",
      "98/98 [==============================] - 0s 3ms/step - loss: 0.4943 - accuracy: 0.7934 - val_loss: 0.4800 - val_accuracy: 0.8081\n",
      "Epoch 21/100\n",
      "98/98 [==============================] - 0s 3ms/step - loss: 0.4956 - accuracy: 0.8036 - val_loss: 0.5458 - val_accuracy: 0.7778\n",
      "Epoch 22/100\n",
      "98/98 [==============================] - 0s 3ms/step - loss: 0.4924 - accuracy: 0.7934 - val_loss: 0.5334 - val_accuracy: 0.8081\n",
      "Epoch 23/100\n",
      "98/98 [==============================] - 0s 3ms/step - loss: 0.5043 - accuracy: 0.8010 - val_loss: 0.4924 - val_accuracy: 0.8081\n",
      "Epoch 24/100\n",
      "98/98 [==============================] - 0s 3ms/step - loss: 0.4916 - accuracy: 0.8087 - val_loss: 0.5193 - val_accuracy: 0.7980\n",
      "Epoch 25/100\n",
      "98/98 [==============================] - 0s 3ms/step - loss: 0.4903 - accuracy: 0.7934 - val_loss: 0.5368 - val_accuracy: 0.8081\n",
      "Epoch 26/100\n",
      "98/98 [==============================] - 0s 3ms/step - loss: 0.5035 - accuracy: 0.7959 - val_loss: 0.5456 - val_accuracy: 0.7980\n",
      "Epoch 27/100\n",
      "98/98 [==============================] - 0s 3ms/step - loss: 0.4976 - accuracy: 0.8010 - val_loss: 0.5054 - val_accuracy: 0.7980\n",
      "Epoch 28/100\n",
      "98/98 [==============================] - 0s 3ms/step - loss: 0.5067 - accuracy: 0.8061 - val_loss: 0.5259 - val_accuracy: 0.8081\n",
      "Epoch 29/100\n",
      "98/98 [==============================] - 0s 3ms/step - loss: 0.4783 - accuracy: 0.7985 - val_loss: 0.5247 - val_accuracy: 0.7980\n",
      "Epoch 30/100\n",
      "98/98 [==============================] - 0s 3ms/step - loss: 0.4812 - accuracy: 0.8112 - val_loss: 0.5224 - val_accuracy: 0.7879\n",
      "Epoch 31/100\n",
      "98/98 [==============================] - 0s 3ms/step - loss: 0.4931 - accuracy: 0.7934 - val_loss: 0.5360 - val_accuracy: 0.7980\n",
      "Epoch 32/100\n",
      "98/98 [==============================] - 0s 3ms/step - loss: 0.4873 - accuracy: 0.7959 - val_loss: 0.5206 - val_accuracy: 0.8081\n",
      "Epoch 33/100\n",
      "98/98 [==============================] - 0s 3ms/step - loss: 0.4918 - accuracy: 0.8112 - val_loss: 0.5054 - val_accuracy: 0.8182\n",
      "Epoch 34/100\n",
      "98/98 [==============================] - 0s 3ms/step - loss: 0.4777 - accuracy: 0.8036 - val_loss: 0.5398 - val_accuracy: 0.8182\n",
      "Epoch 35/100\n",
      "98/98 [==============================] - 0s 4ms/step - loss: 0.4832 - accuracy: 0.8061 - val_loss: 0.5192 - val_accuracy: 0.7980\n",
      "Epoch 36/100\n",
      "98/98 [==============================] - 0s 4ms/step - loss: 0.4753 - accuracy: 0.8061 - val_loss: 0.6210 - val_accuracy: 0.8081\n",
      "Epoch 37/100\n",
      "98/98 [==============================] - 0s 4ms/step - loss: 0.4883 - accuracy: 0.7985 - val_loss: 0.5616 - val_accuracy: 0.7980\n",
      "Epoch 38/100\n",
      "98/98 [==============================] - 0s 3ms/step - loss: 0.4912 - accuracy: 0.7959 - val_loss: 0.5254 - val_accuracy: 0.7980\n",
      "Epoch 39/100\n",
      "98/98 [==============================] - 0s 4ms/step - loss: 0.4948 - accuracy: 0.8036 - val_loss: 0.5269 - val_accuracy: 0.7980\n",
      "Epoch 40/100\n",
      "98/98 [==============================] - 0s 4ms/step - loss: 0.4902 - accuracy: 0.8036 - val_loss: 0.4962 - val_accuracy: 0.8081\n",
      "Epoch 41/100\n",
      "98/98 [==============================] - 0s 4ms/step - loss: 0.4931 - accuracy: 0.8061 - val_loss: 0.5118 - val_accuracy: 0.7980\n",
      "Epoch 42/100\n",
      "98/98 [==============================] - 0s 4ms/step - loss: 0.4971 - accuracy: 0.7934 - val_loss: 0.5199 - val_accuracy: 0.8081\n",
      "Epoch 43/100\n",
      "98/98 [==============================] - 0s 4ms/step - loss: 0.4845 - accuracy: 0.8061 - val_loss: 0.5518 - val_accuracy: 0.7879\n",
      "Epoch 44/100\n",
      "98/98 [==============================] - 0s 3ms/step - loss: 0.4917 - accuracy: 0.8036 - val_loss: 0.5609 - val_accuracy: 0.7980\n",
      "Epoch 45/100\n",
      "98/98 [==============================] - 0s 4ms/step - loss: 0.4893 - accuracy: 0.8036 - val_loss: 0.5063 - val_accuracy: 0.7980\n",
      "Epoch 46/100\n",
      "98/98 [==============================] - 0s 4ms/step - loss: 0.4829 - accuracy: 0.8112 - val_loss: 0.5372 - val_accuracy: 0.7879\n",
      "Epoch 47/100\n",
      "98/98 [==============================] - 0s 3ms/step - loss: 0.4985 - accuracy: 0.8010 - val_loss: 0.5079 - val_accuracy: 0.7980\n",
      "Epoch 48/100\n",
      "98/98 [==============================] - 0s 3ms/step - loss: 0.4872 - accuracy: 0.8087 - val_loss: 0.5172 - val_accuracy: 0.8081\n",
      "Epoch 49/100\n",
      "98/98 [==============================] - 0s 3ms/step - loss: 0.4857 - accuracy: 0.8087 - val_loss: 0.5914 - val_accuracy: 0.8081\n",
      "Epoch 50/100\n",
      "98/98 [==============================] - 0s 3ms/step - loss: 0.4936 - accuracy: 0.8036 - val_loss: 0.5133 - val_accuracy: 0.7980\n",
      "Epoch 51/100\n",
      "98/98 [==============================] - 0s 3ms/step - loss: 0.4934 - accuracy: 0.7934 - val_loss: 0.5103 - val_accuracy: 0.8081\n",
      "Epoch 52/100\n",
      "98/98 [==============================] - 0s 3ms/step - loss: 0.4940 - accuracy: 0.8061 - val_loss: 0.5430 - val_accuracy: 0.8081\n",
      "Epoch 53/100\n",
      "98/98 [==============================] - 0s 4ms/step - loss: 0.4873 - accuracy: 0.8138 - val_loss: 0.5352 - val_accuracy: 0.8081\n",
      "Epoch 54/100\n",
      "98/98 [==============================] - 0s 3ms/step - loss: 0.4945 - accuracy: 0.8061 - val_loss: 0.5122 - val_accuracy: 0.8081\n",
      "Epoch 55/100\n",
      "98/98 [==============================] - 0s 4ms/step - loss: 0.4962 - accuracy: 0.8036 - val_loss: 0.5494 - val_accuracy: 0.7778\n",
      "Epoch 56/100\n",
      "98/98 [==============================] - 0s 3ms/step - loss: 0.4946 - accuracy: 0.8087 - val_loss: 0.5128 - val_accuracy: 0.8081\n",
      "Epoch 57/100\n",
      "98/98 [==============================] - 0s 3ms/step - loss: 0.5012 - accuracy: 0.8138 - val_loss: 0.5107 - val_accuracy: 0.8081\n",
      "Epoch 58/100\n",
      "98/98 [==============================] - 0s 3ms/step - loss: 0.4697 - accuracy: 0.8163 - val_loss: 0.6169 - val_accuracy: 0.7879\n"
     ]
    },
    {
     "name": "stdout",
     "output_type": "stream",
     "text": [
      "Epoch 59/100\n",
      "98/98 [==============================] - 0s 3ms/step - loss: 0.4975 - accuracy: 0.7908 - val_loss: 0.5220 - val_accuracy: 0.7980\n",
      "Epoch 60/100\n",
      "98/98 [==============================] - 0s 3ms/step - loss: 0.4960 - accuracy: 0.8087 - val_loss: 0.5175 - val_accuracy: 0.7980\n",
      "Epoch 61/100\n",
      "98/98 [==============================] - 0s 3ms/step - loss: 0.4937 - accuracy: 0.8112 - val_loss: 0.4980 - val_accuracy: 0.7980\n",
      "Epoch 62/100\n",
      "98/98 [==============================] - 0s 3ms/step - loss: 0.4989 - accuracy: 0.8112 - val_loss: 0.5419 - val_accuracy: 0.8081\n",
      "Epoch 63/100\n",
      "98/98 [==============================] - 0s 3ms/step - loss: 0.4796 - accuracy: 0.8163 - val_loss: 0.5051 - val_accuracy: 0.8182\n",
      "Epoch 64/100\n",
      "98/98 [==============================] - 0s 3ms/step - loss: 0.4777 - accuracy: 0.7959 - val_loss: 0.5715 - val_accuracy: 0.7980\n",
      "Epoch 65/100\n",
      "98/98 [==============================] - 0s 3ms/step - loss: 0.4941 - accuracy: 0.8061 - val_loss: 0.5417 - val_accuracy: 0.7778\n",
      "Epoch 66/100\n",
      "98/98 [==============================] - 0s 3ms/step - loss: 0.4741 - accuracy: 0.8138 - val_loss: 0.4933 - val_accuracy: 0.8182\n",
      "Epoch 67/100\n",
      "98/98 [==============================] - 0s 3ms/step - loss: 0.4967 - accuracy: 0.8036 - val_loss: 0.5210 - val_accuracy: 0.7879\n",
      "Epoch 68/100\n",
      "98/98 [==============================] - 0s 3ms/step - loss: 0.4956 - accuracy: 0.7985 - val_loss: 0.5823 - val_accuracy: 0.7980\n",
      "Epoch 69/100\n",
      "98/98 [==============================] - 0s 3ms/step - loss: 0.4975 - accuracy: 0.7985 - val_loss: 0.5252 - val_accuracy: 0.8081\n",
      "Epoch 70/100\n",
      "98/98 [==============================] - 0s 3ms/step - loss: 0.4965 - accuracy: 0.8036 - val_loss: 0.5320 - val_accuracy: 0.8081\n"
     ]
    },
    {
     "data": {
      "text/plain": [
       "<tensorflow.python.keras.callbacks.History at 0x1920c25f190>"
      ]
     },
     "execution_count": 18,
     "metadata": {},
     "output_type": "execute_result"
    }
   ],
   "source": [
    "nn.compile(loss=\"binary_crossentropy\",metrics=\"accuracy\")\n",
    "nn.fit(xtrain,ytrain,epochs=100,validation_split=0.2,callbacks=es,batch_size=4)"
   ]
  },
  {
   "cell_type": "markdown",
   "id": "e3927fcb",
   "metadata": {},
   "source": [
    "# Read Data"
   ]
  },
  {
   "cell_type": "code",
   "execution_count": 20,
   "id": "bade1680",
   "metadata": {},
   "outputs": [],
   "source": [
    "import pandas as pd\n",
    "B = pd.read_csv(\"/Users/ABC/Downloads/loan/testing_set.csv\")"
   ]
  },
  {
   "cell_type": "markdown",
   "id": "9b2be821",
   "metadata": {},
   "source": [
    "# preview"
   ]
  },
  {
   "cell_type": "code",
   "execution_count": 21,
   "id": "555d6477",
   "metadata": {},
   "outputs": [
    {
     "data": {
      "text/html": [
       "<div>\n",
       "<style scoped>\n",
       "    .dataframe tbody tr th:only-of-type {\n",
       "        vertical-align: middle;\n",
       "    }\n",
       "\n",
       "    .dataframe tbody tr th {\n",
       "        vertical-align: top;\n",
       "    }\n",
       "\n",
       "    .dataframe thead th {\n",
       "        text-align: right;\n",
       "    }\n",
       "</style>\n",
       "<table border=\"1\" class=\"dataframe\">\n",
       "  <thead>\n",
       "    <tr style=\"text-align: right;\">\n",
       "      <th></th>\n",
       "      <th>Loan_ID</th>\n",
       "      <th>Gender</th>\n",
       "      <th>Married</th>\n",
       "      <th>Dependents</th>\n",
       "      <th>Education</th>\n",
       "      <th>Self_Employed</th>\n",
       "      <th>ApplicantIncome</th>\n",
       "      <th>CoapplicantIncome</th>\n",
       "      <th>LoanAmount</th>\n",
       "      <th>Loan_Amount_Term</th>\n",
       "      <th>Credit_History</th>\n",
       "      <th>Property_Area</th>\n",
       "    </tr>\n",
       "  </thead>\n",
       "  <tbody>\n",
       "    <tr>\n",
       "      <th>0</th>\n",
       "      <td>LP001015</td>\n",
       "      <td>Male</td>\n",
       "      <td>Yes</td>\n",
       "      <td>0</td>\n",
       "      <td>Graduate</td>\n",
       "      <td>No</td>\n",
       "      <td>5720</td>\n",
       "      <td>0</td>\n",
       "      <td>110.0</td>\n",
       "      <td>360.0</td>\n",
       "      <td>1.0</td>\n",
       "      <td>Urban</td>\n",
       "    </tr>\n",
       "    <tr>\n",
       "      <th>1</th>\n",
       "      <td>LP001022</td>\n",
       "      <td>Male</td>\n",
       "      <td>Yes</td>\n",
       "      <td>1</td>\n",
       "      <td>Graduate</td>\n",
       "      <td>No</td>\n",
       "      <td>3076</td>\n",
       "      <td>1500</td>\n",
       "      <td>126.0</td>\n",
       "      <td>360.0</td>\n",
       "      <td>1.0</td>\n",
       "      <td>Urban</td>\n",
       "    </tr>\n",
       "    <tr>\n",
       "      <th>2</th>\n",
       "      <td>LP001031</td>\n",
       "      <td>Male</td>\n",
       "      <td>Yes</td>\n",
       "      <td>2</td>\n",
       "      <td>Graduate</td>\n",
       "      <td>No</td>\n",
       "      <td>5000</td>\n",
       "      <td>1800</td>\n",
       "      <td>208.0</td>\n",
       "      <td>360.0</td>\n",
       "      <td>1.0</td>\n",
       "      <td>Urban</td>\n",
       "    </tr>\n",
       "    <tr>\n",
       "      <th>3</th>\n",
       "      <td>LP001035</td>\n",
       "      <td>Male</td>\n",
       "      <td>Yes</td>\n",
       "      <td>2</td>\n",
       "      <td>Graduate</td>\n",
       "      <td>No</td>\n",
       "      <td>2340</td>\n",
       "      <td>2546</td>\n",
       "      <td>100.0</td>\n",
       "      <td>360.0</td>\n",
       "      <td>NaN</td>\n",
       "      <td>Urban</td>\n",
       "    </tr>\n",
       "    <tr>\n",
       "      <th>4</th>\n",
       "      <td>LP001051</td>\n",
       "      <td>Male</td>\n",
       "      <td>No</td>\n",
       "      <td>0</td>\n",
       "      <td>Not Graduate</td>\n",
       "      <td>No</td>\n",
       "      <td>3276</td>\n",
       "      <td>0</td>\n",
       "      <td>78.0</td>\n",
       "      <td>360.0</td>\n",
       "      <td>1.0</td>\n",
       "      <td>Urban</td>\n",
       "    </tr>\n",
       "  </tbody>\n",
       "</table>\n",
       "</div>"
      ],
      "text/plain": [
       "    Loan_ID Gender Married Dependents     Education Self_Employed  \\\n",
       "0  LP001015   Male     Yes          0      Graduate            No   \n",
       "1  LP001022   Male     Yes          1      Graduate            No   \n",
       "2  LP001031   Male     Yes          2      Graduate            No   \n",
       "3  LP001035   Male     Yes          2      Graduate            No   \n",
       "4  LP001051   Male      No          0  Not Graduate            No   \n",
       "\n",
       "   ApplicantIncome  CoapplicantIncome  LoanAmount  Loan_Amount_Term  \\\n",
       "0             5720                  0       110.0             360.0   \n",
       "1             3076               1500       126.0             360.0   \n",
       "2             5000               1800       208.0             360.0   \n",
       "3             2340               2546       100.0             360.0   \n",
       "4             3276                  0        78.0             360.0   \n",
       "\n",
       "   Credit_History Property_Area  \n",
       "0             1.0         Urban  \n",
       "1             1.0         Urban  \n",
       "2             1.0         Urban  \n",
       "3             NaN         Urban  \n",
       "4             1.0         Urban  "
      ]
     },
     "execution_count": 21,
     "metadata": {},
     "output_type": "execute_result"
    }
   ],
   "source": [
    "B.head(5)"
   ]
  },
  {
   "cell_type": "markdown",
   "id": "37df41b4",
   "metadata": {},
   "source": [
    "# Missing data treatment"
   ]
  },
  {
   "cell_type": "code",
   "execution_count": 22,
   "id": "cdafbea9",
   "metadata": {},
   "outputs": [
    {
     "data": {
      "text/plain": [
       "Loan_ID               0\n",
       "Gender               11\n",
       "Married               0\n",
       "Dependents           10\n",
       "Education             0\n",
       "Self_Employed        23\n",
       "ApplicantIncome       0\n",
       "CoapplicantIncome     0\n",
       "LoanAmount            5\n",
       "Loan_Amount_Term      6\n",
       "Credit_History       29\n",
       "Property_Area         0\n",
       "dtype: int64"
      ]
     },
     "execution_count": 22,
     "metadata": {},
     "output_type": "execute_result"
    }
   ],
   "source": [
    "B.isna().sum()"
   ]
  },
  {
   "cell_type": "code",
   "execution_count": 23,
   "id": "f6af95cb",
   "metadata": {},
   "outputs": [],
   "source": [
    "from PM8wd import replacer\n",
    "replacer(B)"
   ]
  },
  {
   "cell_type": "markdown",
   "id": "82d4984f",
   "metadata": {},
   "source": [
    "# drop unwanted columns"
   ]
  },
  {
   "cell_type": "code",
   "execution_count": 24,
   "id": "d985c0a5",
   "metadata": {},
   "outputs": [],
   "source": [
    "B = B.drop(labels=[\"Loan_ID\"],axis=1)"
   ]
  },
  {
   "cell_type": "markdown",
   "id": "85000cbb",
   "metadata": {},
   "source": [
    "# preprocessing"
   ]
  },
  {
   "cell_type": "code",
   "execution_count": 25,
   "id": "cb465d47",
   "metadata": {},
   "outputs": [],
   "source": [
    "from PM8wd import preprocessing\n",
    "test = preprocessing(B)"
   ]
  },
  {
   "cell_type": "code",
   "execution_count": 27,
   "id": "5cb7ce04",
   "metadata": {},
   "outputs": [
    {
     "data": {
      "text/plain": [
       "(367, 20)"
      ]
     },
     "execution_count": 27,
     "metadata": {},
     "output_type": "execute_result"
    }
   ],
   "source": [
    "test.shape"
   ]
  },
  {
   "cell_type": "code",
   "execution_count": 28,
   "id": "2b9d7953",
   "metadata": {},
   "outputs": [
    {
     "data": {
      "text/plain": [
       "(614, 20)"
      ]
     },
     "execution_count": 28,
     "metadata": {},
     "output_type": "execute_result"
    }
   ],
   "source": [
    "Xnew.shape"
   ]
  },
  {
   "cell_type": "code",
   "execution_count": 29,
   "id": "e927c114",
   "metadata": {},
   "outputs": [],
   "source": [
    "Q = []\n",
    "for i in nn.predict(test):\n",
    "    if(i[0] < 0.5):\n",
    "        Q.append(0)\n",
    "    else:\n",
    "        Q.append(1)"
   ]
  },
  {
   "cell_type": "code",
   "execution_count": 31,
   "id": "066439c9",
   "metadata": {},
   "outputs": [],
   "source": [
    "#Q"
   ]
  },
  {
   "cell_type": "code",
   "execution_count": 33,
   "id": "d23995f9",
   "metadata": {},
   "outputs": [],
   "source": [
    "pred = le.inverse_transform(Q)"
   ]
  },
  {
   "cell_type": "code",
   "execution_count": 35,
   "id": "c3df9cc3",
   "metadata": {},
   "outputs": [],
   "source": [
    "#pred"
   ]
  },
  {
   "cell_type": "markdown",
   "id": "252b9a42",
   "metadata": {},
   "source": [
    "# Prediction"
   ]
  },
  {
   "cell_type": "code",
   "execution_count": 38,
   "id": "9bc73137",
   "metadata": {},
   "outputs": [],
   "source": [
    "D = pd.read_csv(\"/Users/ABC/Downloads/loan/testing_set.csv\")"
   ]
  },
  {
   "cell_type": "code",
   "execution_count": 39,
   "id": "f40b529d",
   "metadata": {},
   "outputs": [],
   "source": [
    "C = D[[\"Loan_ID\"]]"
   ]
  },
  {
   "cell_type": "code",
   "execution_count": 40,
   "id": "d57f19fe",
   "metadata": {},
   "outputs": [],
   "source": [
    "C[\"Loan_Status_Predicted\"] = pred"
   ]
  },
  {
   "cell_type": "code",
   "execution_count": 41,
   "id": "73726cf6",
   "metadata": {},
   "outputs": [
    {
     "data": {
      "text/html": [
       "<div>\n",
       "<style scoped>\n",
       "    .dataframe tbody tr th:only-of-type {\n",
       "        vertical-align: middle;\n",
       "    }\n",
       "\n",
       "    .dataframe tbody tr th {\n",
       "        vertical-align: top;\n",
       "    }\n",
       "\n",
       "    .dataframe thead th {\n",
       "        text-align: right;\n",
       "    }\n",
       "</style>\n",
       "<table border=\"1\" class=\"dataframe\">\n",
       "  <thead>\n",
       "    <tr style=\"text-align: right;\">\n",
       "      <th></th>\n",
       "      <th>Loan_ID</th>\n",
       "      <th>Loan_Status_Predicted</th>\n",
       "    </tr>\n",
       "  </thead>\n",
       "  <tbody>\n",
       "    <tr>\n",
       "      <th>0</th>\n",
       "      <td>LP001015</td>\n",
       "      <td>Y</td>\n",
       "    </tr>\n",
       "    <tr>\n",
       "      <th>1</th>\n",
       "      <td>LP001022</td>\n",
       "      <td>Y</td>\n",
       "    </tr>\n",
       "    <tr>\n",
       "      <th>2</th>\n",
       "      <td>LP001031</td>\n",
       "      <td>Y</td>\n",
       "    </tr>\n",
       "    <tr>\n",
       "      <th>3</th>\n",
       "      <td>LP001035</td>\n",
       "      <td>Y</td>\n",
       "    </tr>\n",
       "    <tr>\n",
       "      <th>4</th>\n",
       "      <td>LP001051</td>\n",
       "      <td>Y</td>\n",
       "    </tr>\n",
       "    <tr>\n",
       "      <th>...</th>\n",
       "      <td>...</td>\n",
       "      <td>...</td>\n",
       "    </tr>\n",
       "    <tr>\n",
       "      <th>362</th>\n",
       "      <td>LP002971</td>\n",
       "      <td>Y</td>\n",
       "    </tr>\n",
       "    <tr>\n",
       "      <th>363</th>\n",
       "      <td>LP002975</td>\n",
       "      <td>Y</td>\n",
       "    </tr>\n",
       "    <tr>\n",
       "      <th>364</th>\n",
       "      <td>LP002980</td>\n",
       "      <td>Y</td>\n",
       "    </tr>\n",
       "    <tr>\n",
       "      <th>365</th>\n",
       "      <td>LP002986</td>\n",
       "      <td>Y</td>\n",
       "    </tr>\n",
       "    <tr>\n",
       "      <th>366</th>\n",
       "      <td>LP002989</td>\n",
       "      <td>Y</td>\n",
       "    </tr>\n",
       "  </tbody>\n",
       "</table>\n",
       "<p>367 rows × 2 columns</p>\n",
       "</div>"
      ],
      "text/plain": [
       "      Loan_ID Loan_Status_Predicted\n",
       "0    LP001015                     Y\n",
       "1    LP001022                     Y\n",
       "2    LP001031                     Y\n",
       "3    LP001035                     Y\n",
       "4    LP001051                     Y\n",
       "..        ...                   ...\n",
       "362  LP002971                     Y\n",
       "363  LP002975                     Y\n",
       "364  LP002980                     Y\n",
       "365  LP002986                     Y\n",
       "366  LP002989                     Y\n",
       "\n",
       "[367 rows x 2 columns]"
      ]
     },
     "execution_count": 41,
     "metadata": {},
     "output_type": "execute_result"
    }
   ],
   "source": [
    "C"
   ]
  },
  {
   "cell_type": "code",
   "execution_count": null,
   "id": "2b5112ed",
   "metadata": {},
   "outputs": [],
   "source": []
  }
 ],
 "metadata": {
  "kernelspec": {
   "display_name": "Python 3",
   "language": "python",
   "name": "python3"
  },
  "language_info": {
   "codemirror_mode": {
    "name": "ipython",
    "version": 3
   },
   "file_extension": ".py",
   "mimetype": "text/x-python",
   "name": "python",
   "nbconvert_exporter": "python",
   "pygments_lexer": "ipython3",
   "version": "3.8.8"
  }
 },
 "nbformat": 4,
 "nbformat_minor": 5
}
